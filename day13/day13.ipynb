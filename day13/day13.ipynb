{
 "cells": [
  {
   "cell_type": "code",
   "execution_count": 137,
   "metadata": {},
   "outputs": [
    {
     "name": "stdout",
     "output_type": "stream",
     "text": [
      "['raposa', 'caranguejo', 'leão', 'papagaio', 'gato']\n",
      "['Cachorro', 'Panda', 'Guaxinim', 'Leão', 'Arara']\n",
      "['lhama', 'gato', 'rolieiro-europeu', 'píton-verde', 'leão']\n",
      "['Papagaio-do-mar', 'Ovelha', 'Camelo', 'Veado', 'Águia-de-cabeça-branca']\n"
     ]
    }
   ],
   "source": [
    "\n",
    "from pathlib import Path\n",
    "import hashlib\n",
    "import google.generativeai as genai\n",
    "import time\n",
    "import re\n",
    "import os\n",
    "import logging\n",
    "\n",
    "# Configuração da chave da API do Google Generative AI\n",
    "genai.configure(api_key=\"sua_chave\")\n",
    "\n",
    "# Configuração de geração de texto\n",
    "generation_config = {\n",
    "    \"temperature\": 1,\n",
    "    \"top_p\": 0.95,\n",
    "    \"top_k\": 0,\n",
    "    \"max_output_tokens\": 18192,\n",
    "    \"candidate_count\": 1\n",
    "}\n",
    "# Configuração de segurança para evitar conteúdo ofensivo\n",
    "safety_settings = [\n",
    "    {\"category\": \"HARM_CATEGORY_HARASSMENT\", \"threshold\": \"BLOCK_MEDIUM_AND_ABOVE\"},\n",
    "    {\"category\": \"HARM_CATEGORY_HATE_SPEECH\", \"threshold\": \"BLOCK_MEDIUM_AND_ABOVE\"},\n",
    "    {\"category\": \"HARM_CATEGORY_SEXUALLY_EXPLICIT\", \"threshold\": \"BLOCK_MEDIUM_AND_ABOVE\"},\n",
    "    {\"category\": \"HARM_CATEGORY_DANGEROUS_CONTENT\", \"threshold\": \"BLOCK_MEDIUM_AND_ABOVE\"}\n",
    "]\n",
    "# Criação do modelo de geração de texto\n",
    "model = genai.GenerativeModel(\n",
    "    model_name=\"gemini-1.5-pro-latest\",\n",
    "    generation_config=generation_config,\n",
    "    safety_settings=safety_settings\n",
    ")\n",
    "# Lista para armazenar os nomes de animais\n",
    "nomes_animais=[]\n",
    "\n",
    "# Função para upload de arquivo\n",
    "def upload_file(file_path: str) -> str:\n",
    "    return genai.upload_file(file_path)\n",
    "\n",
    "# Função para gerar conteúdo de texto\n",
    "def generate_content(prompt_parts: list) -> str:\n",
    "    try:\n",
    "        response = model.generate_content(prompt_parts)\n",
    "        return re.sub(r'[\\'\\\"\\s\\n]+', '', response.text)\n",
    "    except Exception as e:\n",
    "        logging.error(f\"Error generating content: {e}\")\n",
    "        raise\n",
    "\n",
    "# Função para classificar animais em imagens\n",
    "def classify_animal(file_path: str) -> str:\n",
    "    for i in range(0, len(file_path), 5):\n",
    "        prompt_parts = [\n",
    "        \"Em cada um desses arquivos de imagem tem um animal, escreva para mim qual é a especie desses animais, separando os por '\\'':\\n\",\n",
    "        \"exemplos de saidas:'cachorro','gato','peixe'\\n\",\n",
    "        genai.upload_file(file_path[i]),\n",
    "        genai.upload_file(file_path[i+1]),\n",
    "        genai.upload_file(file_path[i+2]),\n",
    "        genai.upload_file(file_path[i+3]),\n",
    "        genai.upload_file(file_path[i+4]),\n",
    "        \"\\n\",\n",
    "    ]\n",
    "        max_attempts = 7\n",
    "        for attempt in range(max_attempts):\n",
    "            try:\n",
    "                time.sleep(5) \n",
    "                return generate_content(prompt_parts)\n",
    "            except Exception as e:\n",
    "                logging.error(f\"Error classifying animal (attempt {attempt+1}/{max_attempts}): {e}\")\n",
    "                if attempt == max_attempts - 1:\n",
    "                    raise\n",
    "\n",
    "# Função para obter lista de arquivos em um diretório\n",
    "def get_file_paths(directory: str) -> list:\n",
    "    return [str(file) for file in Path(directory).rglob(\"*\")]\n",
    "\n",
    "# Diretório de imagens\n",
    "directory = 'C:/Users/Pablo Vítor/Desktop/Scripts/30daysOfPython/day13/bd_imagens'\n",
    "\n",
    "# Lista de arquivos no diretório\n",
    "file_list = os.listdir(directory)\n",
    "\n",
    "# Caminhos de arquivos no diretório\n",
    "file_paths = get_file_paths(directory)\n",
    "\n",
    "# Processamento de arquivos em lotes de 5\n",
    "for i in range(0, len(file_paths), 5):\n",
    "    file_path=file_paths[i:i+5]\n",
    "    file_names=file_list[i:i+5]\n",
    "    try:\n",
    "        animal_name = classify_animal(file_path)\n",
    "        nomes_animais.append(animal_name)\n",
    "        print(animal_name.split(','))\n",
    "        animais=animal_name.split(',')\n",
    "        \n",
    "    except Exception as e:\n",
    "        logging.error(f\"Error processing file {file_path}: {e}\")"
   ]
  },
  {
   "cell_type": "code",
   "execution_count": 139,
   "metadata": {},
   "outputs": [
    {
     "data": {
      "text/plain": [
       "'C:/Users/Pablo Vítor/Desktop/Scripts/30daysOfPython/day13/novo_bd/raposa\\\\alexander-andrews-mEdKuPYJe1I-unsplash.jpg'"
      ]
     },
     "metadata": {},
     "output_type": "display_data"
    },
    {
     "data": {
      "text/plain": [
       "'C:/Users/Pablo Vítor/Desktop/Scripts/30daysOfPython/day13/novo_bd/caranguejo\\\\amy-perez-EN24LvCaHw0-unsplash.jpg'"
      ]
     },
     "metadata": {},
     "output_type": "display_data"
    },
    {
     "data": {
      "text/plain": [
       "'C:/Users/Pablo Vítor/Desktop/Scripts/30daysOfPython/day13/novo_bd/leão\\\\arleen-wiese-2vbhN2Yjb3A-unsplash.jpg'"
      ]
     },
     "metadata": {},
     "output_type": "display_data"
    },
    {
     "data": {
      "text/plain": [
       "'C:/Users/Pablo Vítor/Desktop/Scripts/30daysOfPython/day13/novo_bd/papagaio\\\\brandon-griggs-uhLDvDSNjzs-unsplash.jpg'"
      ]
     },
     "metadata": {},
     "output_type": "display_data"
    },
    {
     "data": {
      "text/plain": [
       "'C:/Users/Pablo Vítor/Desktop/Scripts/30daysOfPython/day13/novo_bd/gato\\\\ceyda-ciftci-GGD9KgalPkY-unsplash.jpg'"
      ]
     },
     "metadata": {},
     "output_type": "display_data"
    },
    {
     "data": {
      "text/plain": [
       "'C:/Users/Pablo Vítor/Desktop/Scripts/30daysOfPython/day13/novo_bd/Cachorro\\\\charlesdeluvio-K4mSJ7kc0As-unsplash.jpg'"
      ]
     },
     "metadata": {},
     "output_type": "display_data"
    },
    {
     "data": {
      "text/plain": [
       "'C:/Users/Pablo Vítor/Desktop/Scripts/30daysOfPython/day13/novo_bd/Panda\\\\debbie-molle-6DSID8Ey9-U-unsplash.jpg'"
      ]
     },
     "metadata": {},
     "output_type": "display_data"
    },
    {
     "data": {
      "text/plain": [
       "'C:/Users/Pablo Vítor/Desktop/Scripts/30daysOfPython/day13/novo_bd/Guaxinim\\\\gary-bendig-6GMq7AGxNbE-unsplash.jpg'"
      ]
     },
     "metadata": {},
     "output_type": "display_data"
    },
    {
     "data": {
      "text/plain": [
       "'C:/Users/Pablo Vítor/Desktop/Scripts/30daysOfPython/day13/novo_bd/Leão\\\\james-eades-EyWp41EftT0-unsplash.jpg'"
      ]
     },
     "metadata": {},
     "output_type": "display_data"
    },
    {
     "data": {
      "text/plain": [
       "'C:/Users/Pablo Vítor/Desktop/Scripts/30daysOfPython/day13/novo_bd/Arara\\\\jeremy-bishop-hppWAs2WTZU-unsplash.jpg'"
      ]
     },
     "metadata": {},
     "output_type": "display_data"
    },
    {
     "data": {
      "text/plain": [
       "'C:/Users/Pablo Vítor/Desktop/Scripts/30daysOfPython/day13/novo_bd/lhama\\\\jessica-burnett-mcLA1GpIEpw-unsplash.jpg'"
      ]
     },
     "metadata": {},
     "output_type": "display_data"
    },
    {
     "data": {
      "text/plain": [
       "'C:/Users/Pablo Vítor/Desktop/Scripts/30daysOfPython/day13/novo_bd/gato\\\\karina-vorozheeva-rW-I87aPY5Y-unsplash.jpg'"
      ]
     },
     "metadata": {},
     "output_type": "display_data"
    },
    {
     "data": {
      "text/plain": [
       "'C:/Users/Pablo Vítor/Desktop/Scripts/30daysOfPython/day13/novo_bd/rolieiro-europeu\\\\madiba-de-african-inspiration-aXe4Ufe3IV4-unsplash.jpg'"
      ]
     },
     "metadata": {},
     "output_type": "display_data"
    },
    {
     "data": {
      "text/plain": [
       "'C:/Users/Pablo Vítor/Desktop/Scripts/30daysOfPython/day13/novo_bd/píton-verde\\\\marius-masalar-LN_gdbQtzvk-unsplash.jpg'"
      ]
     },
     "metadata": {},
     "output_type": "display_data"
    },
    {
     "data": {
      "text/plain": [
       "'C:/Users/Pablo Vítor/Desktop/Scripts/30daysOfPython/day13/novo_bd/leão\\\\mike-van-den-bos-7HKdb6i3afk-unsplash.jpg'"
      ]
     },
     "metadata": {},
     "output_type": "display_data"
    },
    {
     "data": {
      "text/plain": [
       "'C:/Users/Pablo Vítor/Desktop/Scripts/30daysOfPython/day13/novo_bd/Papagaio-do-mar\\\\ray-hennessy-mpw37yXc_WQ-unsplash.jpg'"
      ]
     },
     "metadata": {},
     "output_type": "display_data"
    },
    {
     "data": {
      "text/plain": [
       "'C:/Users/Pablo Vítor/Desktop/Scripts/30daysOfPython/day13/novo_bd/Ovelha\\\\sam-carter-GHOiyov2TSQ-unsplash.jpg'"
      ]
     },
     "metadata": {},
     "output_type": "display_data"
    },
    {
     "data": {
      "text/plain": [
       "'C:/Users/Pablo Vítor/Desktop/Scripts/30daysOfPython/day13/novo_bd/Camelo\\\\sebastian-laube-OkrKzqnNX90-unsplash.jpg'"
      ]
     },
     "metadata": {},
     "output_type": "display_data"
    },
    {
     "data": {
      "text/plain": [
       "'C:/Users/Pablo Vítor/Desktop/Scripts/30daysOfPython/day13/novo_bd/Veado\\\\vincent-van-zalinge-WHrwb43vH9E-unsplash.jpg'"
      ]
     },
     "metadata": {},
     "output_type": "display_data"
    },
    {
     "data": {
      "text/plain": [
       "'C:/Users/Pablo Vítor/Desktop/Scripts/30daysOfPython/day13/novo_bd/Águia-de-cabeça-branca\\\\zaur-ibrahimov-vpu5crc2Avc-unsplash.jpg'"
      ]
     },
     "metadata": {},
     "output_type": "display_data"
    }
   ],
   "source": [
    "# Criação de lista única de nomes de animais\n",
    "all_list=[]\n",
    "for animal in nomes_animais:\n",
    "    my_list = animal.split(',')\n",
    "    for lista in my_list:\n",
    "        all_list.append(lista)\n",
    "\n",
    "# Diretório de destino para os arquivos classificados\n",
    "caminho = \"C:/Users/Pablo Vítor/Desktop/Scripts/30daysOfPython/day13/novo_bd/\"\n",
    "caminho_arquivo, file_ext = os.path.splitext(file_path[0])\n",
    "\n",
    "# Processamento de arquivos e renomeação com base nos nomes de animais\n",
    "for i in range(len(file_paths)):\n",
    "    file_path, file_ext = os.path.splitext(os.path.join(directory, file_list[i]))\n",
    "\n",
    "    caminho_pasta=caminho+all_list[i]\n",
    "    \n",
    "    if not os.path.exists(caminho_pasta):\n",
    "        os.makedirs(caminho_pasta)\n",
    "    os.rename(os.path.join(directory, file_list[i]), os.path.join(caminho_pasta, file_list[i]))\n",
    "\n"
   ]
  }
 ],
 "metadata": {
  "kernelspec": {
   "display_name": "base",
   "language": "python",
   "name": "python3"
  },
  "language_info": {
   "codemirror_mode": {
    "name": "ipython",
    "version": 3
   },
   "file_extension": ".py",
   "mimetype": "text/x-python",
   "name": "python",
   "nbconvert_exporter": "python",
   "pygments_lexer": "ipython3",
   "version": "3.11.4"
  }
 },
 "nbformat": 4,
 "nbformat_minor": 2
}
