{
 "cells": [
  {
   "cell_type": "code",
   "execution_count": 182,
   "metadata": {},
   "outputs": [],
   "source": [
    "import matplotlib.pyplot as plt\n",
    "import numpy as np\n",
    "from sklearn.linear_model import LinearRegression\n",
    "import pandas as pd\n",
    "import matplotlib.pyplot as plt\n",
    "import seaborn as sns\n",
    "import random\n",
    "import plotly.express as px\n"
   ]
  },
  {
   "cell_type": "code",
   "execution_count": 204,
   "metadata": {},
   "outputs": [
    {
     "data": {
      "application/vnd.plotly.v1+json": {
       "config": {
        "plotlyServerURL": "https://plot.ly"
       },
       "data": [
        {
         "hovertemplate": "table_name=Table1<br>variable=y_noise<br>x=%{x}<br>value=%{y}<extra></extra>",
         "legendgroup": "Table1",
         "line": {
          "color": "#636efa",
          "dash": "solid"
         },
         "marker": {
          "symbol": "circle"
         },
         "mode": "markers+lines",
         "name": "Table1",
         "orientation": "v",
         "showlegend": true,
         "type": "scatter",
         "x": [
          0,
          1,
          2,
          3,
          4,
          5,
          6,
          7,
          8,
          9,
          10,
          11,
          12,
          13
         ],
         "xaxis": "x",
         "y": [
          5,
          5.191725054104268,
          5.536926776026215,
          5.551808205729207,
          5.75611714194539,
          5.940310754267547,
          6.399006821690897,
          6.527329753460611,
          6.903484484712914,
          7.127105184474958,
          7.230903851802363,
          7.415987336849937,
          7.618704284392145,
          8.041272596797139
         ],
         "yaxis": "y"
        },
        {
         "hovertemplate": "table_name=Table1<br>variable=y_pred<br>x=%{x}<br>value=%{y}<extra></extra>",
         "legendgroup": "Table1",
         "line": {
          "color": "#636efa",
          "dash": "solid"
         },
         "marker": {
          "symbol": "circle"
         },
         "mode": "markers+lines",
         "name": "Table1",
         "orientation": "v",
         "showlegend": false,
         "type": "scatter",
         "x": [
          0,
          1,
          2,
          3,
          4,
          5,
          6,
          7,
          8,
          9,
          10,
          11,
          12,
          13
         ],
         "xaxis": "x",
         "y": [
          4.949029957629418,
          5.179296582238668,
          5.409563206847918,
          5.639829831457168,
          5.870096456066417,
          6.100363080675667,
          6.330629705284917,
          6.560896329894167,
          6.791162954503417,
          7.021429579112667,
          7.251696203721917,
          7.4819628283311665,
          7.7122294529404165,
          7.9424960775496665
         ],
         "yaxis": "y"
        },
        {
         "hovertemplate": "table_name=Table2<br>variable=y_noise<br>x=%{x}<br>value=%{y}<extra></extra>",
         "legendgroup": "Table2",
         "line": {
          "color": "#EF553B",
          "dash": "solid"
         },
         "marker": {
          "symbol": "circle"
         },
         "mode": "markers+lines",
         "name": "Table2",
         "orientation": "v",
         "showlegend": true,
         "type": "scatter",
         "x": [
          13,
          14,
          15,
          16,
          17,
          18,
          19,
          20,
          21,
          22,
          23,
          24,
          25,
          26,
          27,
          28
         ],
         "xaxis": "x",
         "y": [
          5,
          5.253591354655119,
          5.97961741117882,
          6.364513098074857,
          6.3646273761436785,
          6.37281201927379,
          6.379962364969322,
          6.733336461023409,
          6.8627709873234615,
          7.130590753738524,
          7.157814175241529,
          7.404825728989197,
          7.953640084230548,
          7.953640334595509,
          7.953642899414173,
          8.446541280426482
         ],
         "yaxis": "y"
        },
        {
         "hovertemplate": "table_name=Table2<br>variable=y_pred<br>x=%{x}<br>value=%{y}<extra></extra>",
         "legendgroup": "Table2",
         "line": {
          "color": "#EF553B",
          "dash": "solid"
         },
         "marker": {
          "symbol": "circle"
         },
         "mode": "markers+lines",
         "name": "Table2",
         "orientation": "v",
         "showlegend": false,
         "type": "scatter",
         "x": [
          13,
          14,
          15,
          16,
          17,
          18,
          19,
          20,
          21,
          22,
          23,
          24,
          25,
          26,
          27,
          28
         ],
         "xaxis": "x",
         "y": [
          5.32755160958415,
          5.528144114383583,
          5.728736619183017,
          5.92932912398245,
          6.129921628781883,
          6.3305141335813175,
          6.53110663838075,
          6.731699143180184,
          6.932291647979617,
          7.1328841527790505,
          7.333476657578484,
          7.534069162377917,
          7.734661667177351,
          7.935254171976784,
          8.135846676776218,
          8.336439181575651
         ],
         "yaxis": "y"
        },
        {
         "hovertemplate": "table_name=Table3<br>variable=y_noise<br>x=%{x}<br>value=%{y}<extra></extra>",
         "legendgroup": "Table3",
         "line": {
          "color": "#00cc96",
          "dash": "solid"
         },
         "marker": {
          "symbol": "circle"
         },
         "mode": "markers+lines",
         "name": "Table3",
         "orientation": "v",
         "showlegend": true,
         "type": "scatter",
         "x": [
          28,
          29,
          30,
          31,
          32,
          33,
          34,
          35,
          36,
          37,
          38,
          39,
          40,
          41,
          42
         ],
         "xaxis": "x",
         "y": [
          5,
          5.877295435274734,
          5.892084042179979,
          5.993000923976303,
          5.994950140566834,
          6.041294427314906,
          6.041294867440628,
          6.44706701471125,
          6.448254755004407,
          6.457472038856352,
          6.724075778105785,
          6.728663356814859,
          6.728728100628922,
          7.662527025404721,
          8.16156515851293
         ],
         "yaxis": "y"
        },
        {
         "hovertemplate": "table_name=Table3<br>variable=y_pred<br>x=%{x}<br>value=%{y}<extra></extra>",
         "legendgroup": "Table3",
         "line": {
          "color": "#00cc96",
          "dash": "solid"
         },
         "marker": {
          "symbol": "circle"
         },
         "mode": "markers+lines",
         "name": "Table3",
         "orientation": "v",
         "showlegend": false,
         "type": "scatter",
         "x": [
          28,
          29,
          30,
          31,
          32,
          33,
          34,
          35,
          36,
          37,
          38,
          39,
          40,
          41,
          42
         ],
         "xaxis": "x",
         "y": [
          5.328345511888684,
          5.483327325093087,
          5.63830913829749,
          5.793290951501894,
          5.948272764706297,
          6.1032545779106995,
          6.258236391115103,
          6.413218204319507,
          6.5682000175239095,
          6.723181830728312,
          6.878163643932716,
          7.0331454571371195,
          7.188127270341522,
          7.343109083545925,
          7.498090896750329
         ],
         "yaxis": "y"
        },
        {
         "hovertemplate": "table_name=Table4<br>variable=y_noise<br>x=%{x}<br>value=%{y}<extra></extra>",
         "legendgroup": "Table4",
         "line": {
          "color": "#ab63fa",
          "dash": "solid"
         },
         "marker": {
          "symbol": "circle"
         },
         "mode": "markers+lines",
         "name": "Table4",
         "orientation": "v",
         "showlegend": true,
         "type": "scatter",
         "x": [
          42,
          43,
          44,
          45,
          46,
          47,
          48,
          49,
          50,
          51,
          52,
          53,
          54,
          55,
          56,
          57,
          58,
          59,
          60,
          61,
          62,
          63,
          64,
          65,
          66,
          67,
          68,
          69
         ],
         "xaxis": "x",
         "y": [
          5,
          5.005632694927403,
          5.005741589131734,
          5.021394200245115,
          5.173150669643577,
          5.201651025833231,
          5.209997042835841,
          5.209998371414223,
          5.2207367057006335,
          5.229888261032737,
          5.248048949869615,
          5.248117744735355,
          5.249137453663963,
          5.278427023983243,
          5.280494981544751,
          5.28408116024518,
          5.284100151535217,
          6.195613638126662,
          6.20906721398312,
          6.420508271038569,
          6.429551545654752,
          6.429579985913235,
          6.434784951742009,
          6.44182125608248,
          6.657000684045371,
          7.223461571021512,
          7.922252604598771,
          8.269182324217818
         ],
         "yaxis": "y"
        },
        {
         "hovertemplate": "table_name=Table4<br>variable=y_pred<br>x=%{x}<br>value=%{y}<extra></extra>",
         "legendgroup": "Table4",
         "line": {
          "color": "#ab63fa",
          "dash": "solid"
         },
         "marker": {
          "symbol": "circle"
         },
         "mode": "markers+lines",
         "name": "Table4",
         "orientation": "v",
         "showlegend": false,
         "type": "scatter",
         "x": [
          42,
          43,
          44,
          45,
          46,
          47,
          48,
          49,
          50,
          51,
          52,
          53,
          54,
          55,
          56,
          57,
          58,
          59,
          60,
          61,
          62,
          63,
          64,
          65,
          66,
          67,
          68,
          69
         ],
         "xaxis": "x",
         "y": [
          4.503282815687264,
          4.600350284559017,
          4.697417753430771,
          4.794485222302524,
          4.891552691174277,
          4.98862016004603,
          5.085687628917784,
          5.182755097789537,
          5.27982256666129,
          5.376890035533044,
          5.473957504404797,
          5.5710249732765496,
          5.6680924421483025,
          5.765159911020056,
          5.862227379891809,
          5.959294848763562,
          6.056362317635315,
          6.153429786507069,
          6.250497255378822,
          6.347564724250575,
          6.444632193122328,
          6.541699661994082,
          6.638767130865835,
          6.735834599737588,
          6.832902068609342,
          6.929969537481095,
          7.027037006352848,
          7.124104475224601
         ],
         "yaxis": "y"
        },
        {
         "hovertemplate": "table_name=Table5<br>variable=y_noise<br>x=%{x}<br>value=%{y}<extra></extra>",
         "legendgroup": "Table5",
         "line": {
          "color": "#FFA15A",
          "dash": "solid"
         },
         "marker": {
          "symbol": "circle"
         },
         "mode": "markers+lines",
         "name": "Table5",
         "orientation": "v",
         "showlegend": true,
         "type": "scatter",
         "x": [
          69,
          70,
          71,
          72,
          73,
          74,
          75,
          76,
          77,
          78,
          79,
          80,
          81,
          82,
          83,
          84,
          85,
          86,
          87,
          88,
          89,
          90,
          91
         ],
         "xaxis": "x",
         "y": [
          5,
          5.000267861881039,
          5.047221147958156,
          5.0717849229040874,
          5.792649269307937,
          5.838129402271944,
          5.838129534289664,
          5.900405637338887,
          5.984312314094147,
          5.98841634297626,
          6.864142332213028,
          6.8663797284254855,
          6.866795606065885,
          6.866795610767125,
          7.166528550515869,
          7.185987427353722,
          7.204117018132933,
          7.209204990167219,
          7.239497247520993,
          7.26455344799375,
          7.26455661064251,
          7.931675657087972,
          8.302848964040061
         ],
         "yaxis": "y"
        },
        {
         "hovertemplate": "table_name=Table5<br>variable=y_pred<br>x=%{x}<br>value=%{y}<extra></extra>",
         "legendgroup": "Table5",
         "line": {
          "color": "#FFA15A",
          "dash": "solid"
         },
         "marker": {
          "symbol": "circle"
         },
         "mode": "markers+lines",
         "name": "Table5",
         "orientation": "v",
         "showlegend": false,
         "type": "scatter",
         "x": [
          69,
          70,
          71,
          72,
          73,
          74,
          75,
          76,
          77,
          78,
          79,
          80,
          81,
          82,
          83,
          84,
          85,
          86,
          87,
          88,
          89,
          90,
          91
         ],
         "xaxis": "x",
         "y": [
          5.000014131538802,
          5.137144861177364,
          5.274275590815926,
          5.411406320454488,
          5.54853705009305,
          5.685667779731612,
          5.822798509370174,
          5.959929239008736,
          6.097059968647298,
          6.234190698285862,
          6.371321427924424,
          6.508452157562986,
          6.645582887201548,
          6.78271361684011,
          6.919844346478672,
          7.056975076117234,
          7.194105805755796,
          7.331236535394358,
          7.468367265032922,
          7.605497994671484,
          7.742628724310046,
          7.8797594539486076,
          8.016890183587169
         ],
         "yaxis": "y"
        },
        {
         "hovertemplate": "table_name=Table6<br>variable=y_noise<br>x=%{x}<br>value=%{y}<extra></extra>",
         "legendgroup": "Table6",
         "line": {
          "color": "#19d3f3",
          "dash": "solid"
         },
         "marker": {
          "symbol": "circle"
         },
         "mode": "markers+lines",
         "name": "Table6",
         "orientation": "v",
         "showlegend": true,
         "type": "scatter",
         "x": [
          91,
          92,
          93,
          94,
          95,
          96,
          97,
          98,
          99,
          100,
          101,
          102,
          103,
          104,
          105,
          106,
          107,
          108,
          109,
          110,
          111,
          112
         ],
         "xaxis": "x",
         "y": [
          5,
          5.064525274613464,
          5.269641917645043,
          5.294707180452879,
          5.295338099593418,
          5.788258428925134,
          5.93213852994158,
          5.959387092301666,
          5.971780266306808,
          6.036753532043599,
          6.037005237180494,
          6.385897459612664,
          6.695717908774243,
          6.8923039044732395,
          7.111215776263938,
          7.535256193167365,
          7.574695710271962,
          7.57489506880121,
          7.574895088649438,
          7.588959905499424,
          7.713549743821332,
          8.420036007400563
         ],
         "yaxis": "y"
        },
        {
         "hovertemplate": "table_name=Table6<br>variable=y_pred<br>x=%{x}<br>value=%{y}<extra></extra>",
         "legendgroup": "Table6",
         "line": {
          "color": "#19d3f3",
          "dash": "solid"
         },
         "marker": {
          "symbol": "circle"
         },
         "mode": "markers+lines",
         "name": "Table6",
         "orientation": "v",
         "showlegend": false,
         "type": "scatter",
         "x": [
          91,
          92,
          93,
          94,
          95,
          96,
          97,
          98,
          99,
          100,
          101,
          102,
          103,
          104,
          105,
          106,
          107,
          108,
          109,
          110,
          111,
          112
         ],
         "xaxis": "x",
         "y": [
          4.8597366858641955,
          5.014726950958252,
          5.169717216052311,
          5.324707481146367,
          5.479697746240424,
          5.634688011334481,
          5.789678276428537,
          5.944668541522594,
          6.099658806616651,
          6.254649071710709,
          6.409639336804766,
          6.564629601898822,
          6.719619866992879,
          6.874610132086936,
          7.029600397180992,
          7.184590662275049,
          7.339580927369106,
          7.494571192463162,
          7.649561457557223,
          7.804551722651279,
          7.959541987745336,
          8.114532252839393
         ],
         "yaxis": "y"
        },
        {
         "hovertemplate": "table_name=Table7<br>variable=y_noise<br>x=%{x}<br>value=%{y}<extra></extra>",
         "legendgroup": "Table7",
         "line": {
          "color": "#FF6692",
          "dash": "solid"
         },
         "marker": {
          "symbol": "circle"
         },
         "mode": "markers+lines",
         "name": "Table7",
         "orientation": "v",
         "showlegend": true,
         "type": "scatter",
         "x": [
          112,
          113,
          114,
          115,
          116,
          117,
          118,
          119,
          120,
          121,
          122,
          123,
          124,
          125,
          126,
          127,
          128,
          129,
          130
         ],
         "xaxis": "x",
         "y": [
          5,
          5.453608703716419,
          5.474399009134434,
          5.636049992660675,
          5.764773063331915,
          6.241099996376734,
          6.259918105387794,
          6.736473765214392,
          6.736480999287831,
          7.0560714085086325,
          7.073465863399643,
          7.073582605582611,
          7.109652261739809,
          7.109652383698493,
          7.4331962604303765,
          7.46191993515444,
          7.464316348093494,
          7.719648200470525,
          8.022188455419107
         ],
         "yaxis": "y"
        },
        {
         "hovertemplate": "table_name=Table7<br>variable=y_pred<br>x=%{x}<br>value=%{y}<extra></extra>",
         "legendgroup": "Table7",
         "line": {
          "color": "#FF6692",
          "dash": "solid"
         },
         "marker": {
          "symbol": "circle"
         },
         "mode": "markers+lines",
         "name": "Table7",
         "orientation": "v",
         "showlegend": false,
         "type": "scatter",
         "x": [
          112,
          113,
          114,
          115,
          116,
          117,
          118,
          119,
          120,
          121,
          122,
          123,
          124,
          125,
          126,
          127,
          128,
          129,
          130
         ],
         "xaxis": "x",
         "y": [
          5.3236674875188434,
          5.473824300938428,
          5.623981114358017,
          5.774137927777602,
          5.9242947411971905,
          6.074451554616775,
          6.224608368036364,
          6.374765181455949,
          6.5249219948755375,
          6.6750788082951225,
          6.825235621714711,
          6.975392435134296,
          7.1255492485538845,
          7.2757060619734695,
          7.425862875393058,
          7.576019688812643,
          7.7261765022322315,
          7.87633331565182,
          8.026490129071405
         ],
         "yaxis": "y"
        },
        {
         "hovertemplate": "table_name=Table8<br>variable=y_noise<br>x=%{x}<br>value=%{y}<extra></extra>",
         "legendgroup": "Table8",
         "line": {
          "color": "#B6E880",
          "dash": "solid"
         },
         "marker": {
          "symbol": "circle"
         },
         "mode": "markers+lines",
         "name": "Table8",
         "orientation": "v",
         "showlegend": true,
         "type": "scatter",
         "x": [
          130,
          131,
          132,
          133,
          134,
          135,
          136,
          137,
          138,
          139,
          140,
          141,
          142,
          143,
          144,
          145,
          146,
          147,
          148,
          149,
          150
         ],
         "xaxis": "x",
         "y": [
          5,
          5.000000010367852,
          5.250722047997323,
          5.252416068613911,
          5.25248852002438,
          5.332239635777813,
          5.646495959517123,
          5.646495971827575,
          6.18693309696638,
          6.1870487451424365,
          6.5989063569491595,
          6.647820513770739,
          6.677480114856491,
          6.677480114858354,
          6.680236222001691,
          7.566289409000361,
          7.573578850462965,
          7.573579275917591,
          7.889769238576295,
          7.894030744496581,
          8.268435097864892
         ],
         "yaxis": "y"
        },
        {
         "hovertemplate": "table_name=Table8<br>variable=y_pred<br>x=%{x}<br>value=%{y}<extra></extra>",
         "legendgroup": "Table8",
         "line": {
          "color": "#B6E880",
          "dash": "solid"
         },
         "marker": {
          "symbol": "circle"
         },
         "mode": "markers+lines",
         "name": "Table8",
         "orientation": "v",
         "showlegend": false,
         "type": "scatter",
         "x": [
          130,
          131,
          132,
          133,
          134,
          135,
          136,
          137,
          138,
          139,
          140,
          141,
          142,
          143,
          144,
          145,
          146,
          147,
          148,
          149,
          150
         ],
         "xaxis": "x",
         "y": [
          4.732700228846944,
          4.901346615462202,
          5.06999300207746,
          5.238639388692718,
          5.407285775307972,
          5.57593216192323,
          5.744578548538488,
          5.913224935153746,
          6.081871321769004,
          6.250517708384262,
          6.41916409499952,
          6.587810481614778,
          6.756456868230035,
          6.925103254845293,
          7.093749641460551,
          7.262396028075809,
          7.431042414691063,
          7.599688801306321,
          7.768335187921579,
          7.936981574536837,
          8.105627961152095
         ],
         "yaxis": "y"
        },
        {
         "hovertemplate": "table_name=Table9<br>variable=y_noise<br>x=%{x}<br>value=%{y}<extra></extra>",
         "legendgroup": "Table9",
         "line": {
          "color": "#FF97FF",
          "dash": "solid"
         },
         "marker": {
          "symbol": "circle"
         },
         "mode": "markers+lines",
         "name": "Table9",
         "orientation": "v",
         "showlegend": true,
         "type": "scatter",
         "x": [
          150,
          151,
          152,
          153,
          154,
          155,
          156,
          157,
          158,
          159,
          160,
          161,
          162,
          163,
          164,
          165,
          166
         ],
         "xaxis": "x",
         "y": [
          5,
          5.019824901250887,
          5.057950605373505,
          5.058008603957826,
          6.007247695177797,
          6.363329945492881,
          6.363798278532575,
          7.033233689691857,
          7.119999069959531,
          7.264327139450076,
          7.266958389017335,
          7.266958411070881,
          7.934963837159258,
          7.938652928353546,
          7.966824250722763,
          7.9776568125789105,
          8.11741657409289
         ],
         "yaxis": "y"
        },
        {
         "hovertemplate": "table_name=Table9<br>variable=y_pred<br>x=%{x}<br>value=%{y}<extra></extra>",
         "legendgroup": "Table9",
         "line": {
          "color": "#FF97FF",
          "dash": "solid"
         },
         "marker": {
          "symbol": "circle"
         },
         "mode": "markers+lines",
         "name": "Table9",
         "orientation": "v",
         "showlegend": false,
         "type": "scatter",
         "x": [
          150,
          151,
          152,
          153,
          154,
          155,
          156,
          157,
          158,
          159,
          160,
          161,
          162,
          163,
          164,
          165,
          166
         ],
         "xaxis": "x",
         "y": [
          4.98650333910091,
          5.206993003565369,
          5.427482668029835,
          5.647972332494302,
          5.868461996958761,
          6.088951661423227,
          6.309441325887686,
          6.5299309903521525,
          6.750420654816619,
          6.970910319281078,
          7.191399983745544,
          7.411889648210003,
          7.63237931267447,
          7.852868977138936,
          8.073358641603395,
          8.293848306067861,
          8.51433797053232
         ],
         "yaxis": "y"
        },
        {
         "hovertemplate": "table_name=Table10<br>variable=y_noise<br>x=%{x}<br>value=%{y}<extra></extra>",
         "legendgroup": "Table10",
         "line": {
          "color": "#FECB52",
          "dash": "solid"
         },
         "marker": {
          "symbol": "circle"
         },
         "mode": "markers+lines",
         "name": "Table10",
         "orientation": "v",
         "showlegend": true,
         "type": "scatter",
         "x": [
          166,
          167,
          168,
          169,
          170,
          171,
          172,
          173,
          174,
          175,
          176,
          177,
          178,
          179,
          180
         ],
         "xaxis": "x",
         "y": [
          5,
          5.001836775135701,
          5.00462659250855,
          5.692044096538512,
          5.69300266545113,
          5.757416793775803,
          6.23569092267035,
          6.294000210552378,
          6.294000340114579,
          6.601059348708836,
          6.806800354632498,
          6.8141421904083455,
          6.81570976964071,
          7.600371398560819,
          8.289825781592105
         ],
         "yaxis": "y"
        },
        {
         "hovertemplate": "table_name=Table10<br>variable=y_pred<br>x=%{x}<br>value=%{y}<extra></extra>",
         "legendgroup": "Table10",
         "line": {
          "color": "#FECB52",
          "dash": "solid"
         },
         "marker": {
          "symbol": "circle"
         },
         "mode": "markers+lines",
         "name": "Table10",
         "orientation": "v",
         "showlegend": false,
         "type": "scatter",
         "x": [
          166,
          167,
          168,
          169,
          170,
          171,
          172,
          173,
          174,
          175,
          176,
          177,
          178,
          179,
          180
         ],
         "xaxis": "x",
         "y": [
          4.8287655476604385,
          5.033232633616471,
          5.237699719572511,
          5.442166805528544,
          5.646633891484576,
          5.851100977440616,
          6.055568063396649,
          6.260035149352689,
          6.464502235308721,
          6.668969321264754,
          6.873436407220794,
          7.0779034931768265,
          7.282370579132866,
          7.486837665088899,
          7.691304751044939
         ],
         "yaxis": "y"
        }
       ],
       "layout": {
        "legend": {
         "title": {
          "text": "table_name"
         },
         "tracegroupgap": 0
        },
        "margin": {
         "t": 60
        },
        "plot_bgcolor": "white",
        "template": {
         "data": {
          "bar": [
           {
            "error_x": {
             "color": "#2a3f5f"
            },
            "error_y": {
             "color": "#2a3f5f"
            },
            "marker": {
             "line": {
              "color": "#E5ECF6",
              "width": 0.5
             },
             "pattern": {
              "fillmode": "overlay",
              "size": 10,
              "solidity": 0.2
             }
            },
            "type": "bar"
           }
          ],
          "barpolar": [
           {
            "marker": {
             "line": {
              "color": "#E5ECF6",
              "width": 0.5
             },
             "pattern": {
              "fillmode": "overlay",
              "size": 10,
              "solidity": 0.2
             }
            },
            "type": "barpolar"
           }
          ],
          "carpet": [
           {
            "aaxis": {
             "endlinecolor": "#2a3f5f",
             "gridcolor": "white",
             "linecolor": "white",
             "minorgridcolor": "white",
             "startlinecolor": "#2a3f5f"
            },
            "baxis": {
             "endlinecolor": "#2a3f5f",
             "gridcolor": "white",
             "linecolor": "white",
             "minorgridcolor": "white",
             "startlinecolor": "#2a3f5f"
            },
            "type": "carpet"
           }
          ],
          "choropleth": [
           {
            "colorbar": {
             "outlinewidth": 0,
             "ticks": ""
            },
            "type": "choropleth"
           }
          ],
          "contour": [
           {
            "colorbar": {
             "outlinewidth": 0,
             "ticks": ""
            },
            "colorscale": [
             [
              0,
              "#0d0887"
             ],
             [
              0.1111111111111111,
              "#46039f"
             ],
             [
              0.2222222222222222,
              "#7201a8"
             ],
             [
              0.3333333333333333,
              "#9c179e"
             ],
             [
              0.4444444444444444,
              "#bd3786"
             ],
             [
              0.5555555555555556,
              "#d8576b"
             ],
             [
              0.6666666666666666,
              "#ed7953"
             ],
             [
              0.7777777777777778,
              "#fb9f3a"
             ],
             [
              0.8888888888888888,
              "#fdca26"
             ],
             [
              1,
              "#f0f921"
             ]
            ],
            "type": "contour"
           }
          ],
          "contourcarpet": [
           {
            "colorbar": {
             "outlinewidth": 0,
             "ticks": ""
            },
            "type": "contourcarpet"
           }
          ],
          "heatmap": [
           {
            "colorbar": {
             "outlinewidth": 0,
             "ticks": ""
            },
            "colorscale": [
             [
              0,
              "#0d0887"
             ],
             [
              0.1111111111111111,
              "#46039f"
             ],
             [
              0.2222222222222222,
              "#7201a8"
             ],
             [
              0.3333333333333333,
              "#9c179e"
             ],
             [
              0.4444444444444444,
              "#bd3786"
             ],
             [
              0.5555555555555556,
              "#d8576b"
             ],
             [
              0.6666666666666666,
              "#ed7953"
             ],
             [
              0.7777777777777778,
              "#fb9f3a"
             ],
             [
              0.8888888888888888,
              "#fdca26"
             ],
             [
              1,
              "#f0f921"
             ]
            ],
            "type": "heatmap"
           }
          ],
          "heatmapgl": [
           {
            "colorbar": {
             "outlinewidth": 0,
             "ticks": ""
            },
            "colorscale": [
             [
              0,
              "#0d0887"
             ],
             [
              0.1111111111111111,
              "#46039f"
             ],
             [
              0.2222222222222222,
              "#7201a8"
             ],
             [
              0.3333333333333333,
              "#9c179e"
             ],
             [
              0.4444444444444444,
              "#bd3786"
             ],
             [
              0.5555555555555556,
              "#d8576b"
             ],
             [
              0.6666666666666666,
              "#ed7953"
             ],
             [
              0.7777777777777778,
              "#fb9f3a"
             ],
             [
              0.8888888888888888,
              "#fdca26"
             ],
             [
              1,
              "#f0f921"
             ]
            ],
            "type": "heatmapgl"
           }
          ],
          "histogram": [
           {
            "marker": {
             "pattern": {
              "fillmode": "overlay",
              "size": 10,
              "solidity": 0.2
             }
            },
            "type": "histogram"
           }
          ],
          "histogram2d": [
           {
            "colorbar": {
             "outlinewidth": 0,
             "ticks": ""
            },
            "colorscale": [
             [
              0,
              "#0d0887"
             ],
             [
              0.1111111111111111,
              "#46039f"
             ],
             [
              0.2222222222222222,
              "#7201a8"
             ],
             [
              0.3333333333333333,
              "#9c179e"
             ],
             [
              0.4444444444444444,
              "#bd3786"
             ],
             [
              0.5555555555555556,
              "#d8576b"
             ],
             [
              0.6666666666666666,
              "#ed7953"
             ],
             [
              0.7777777777777778,
              "#fb9f3a"
             ],
             [
              0.8888888888888888,
              "#fdca26"
             ],
             [
              1,
              "#f0f921"
             ]
            ],
            "type": "histogram2d"
           }
          ],
          "histogram2dcontour": [
           {
            "colorbar": {
             "outlinewidth": 0,
             "ticks": ""
            },
            "colorscale": [
             [
              0,
              "#0d0887"
             ],
             [
              0.1111111111111111,
              "#46039f"
             ],
             [
              0.2222222222222222,
              "#7201a8"
             ],
             [
              0.3333333333333333,
              "#9c179e"
             ],
             [
              0.4444444444444444,
              "#bd3786"
             ],
             [
              0.5555555555555556,
              "#d8576b"
             ],
             [
              0.6666666666666666,
              "#ed7953"
             ],
             [
              0.7777777777777778,
              "#fb9f3a"
             ],
             [
              0.8888888888888888,
              "#fdca26"
             ],
             [
              1,
              "#f0f921"
             ]
            ],
            "type": "histogram2dcontour"
           }
          ],
          "mesh3d": [
           {
            "colorbar": {
             "outlinewidth": 0,
             "ticks": ""
            },
            "type": "mesh3d"
           }
          ],
          "parcoords": [
           {
            "line": {
             "colorbar": {
              "outlinewidth": 0,
              "ticks": ""
             }
            },
            "type": "parcoords"
           }
          ],
          "pie": [
           {
            "automargin": true,
            "type": "pie"
           }
          ],
          "scatter": [
           {
            "fillpattern": {
             "fillmode": "overlay",
             "size": 10,
             "solidity": 0.2
            },
            "type": "scatter"
           }
          ],
          "scatter3d": [
           {
            "line": {
             "colorbar": {
              "outlinewidth": 0,
              "ticks": ""
             }
            },
            "marker": {
             "colorbar": {
              "outlinewidth": 0,
              "ticks": ""
             }
            },
            "type": "scatter3d"
           }
          ],
          "scattercarpet": [
           {
            "marker": {
             "colorbar": {
              "outlinewidth": 0,
              "ticks": ""
             }
            },
            "type": "scattercarpet"
           }
          ],
          "scattergeo": [
           {
            "marker": {
             "colorbar": {
              "outlinewidth": 0,
              "ticks": ""
             }
            },
            "type": "scattergeo"
           }
          ],
          "scattergl": [
           {
            "marker": {
             "colorbar": {
              "outlinewidth": 0,
              "ticks": ""
             }
            },
            "type": "scattergl"
           }
          ],
          "scattermapbox": [
           {
            "marker": {
             "colorbar": {
              "outlinewidth": 0,
              "ticks": ""
             }
            },
            "type": "scattermapbox"
           }
          ],
          "scatterpolar": [
           {
            "marker": {
             "colorbar": {
              "outlinewidth": 0,
              "ticks": ""
             }
            },
            "type": "scatterpolar"
           }
          ],
          "scatterpolargl": [
           {
            "marker": {
             "colorbar": {
              "outlinewidth": 0,
              "ticks": ""
             }
            },
            "type": "scatterpolargl"
           }
          ],
          "scatterternary": [
           {
            "marker": {
             "colorbar": {
              "outlinewidth": 0,
              "ticks": ""
             }
            },
            "type": "scatterternary"
           }
          ],
          "surface": [
           {
            "colorbar": {
             "outlinewidth": 0,
             "ticks": ""
            },
            "colorscale": [
             [
              0,
              "#0d0887"
             ],
             [
              0.1111111111111111,
              "#46039f"
             ],
             [
              0.2222222222222222,
              "#7201a8"
             ],
             [
              0.3333333333333333,
              "#9c179e"
             ],
             [
              0.4444444444444444,
              "#bd3786"
             ],
             [
              0.5555555555555556,
              "#d8576b"
             ],
             [
              0.6666666666666666,
              "#ed7953"
             ],
             [
              0.7777777777777778,
              "#fb9f3a"
             ],
             [
              0.8888888888888888,
              "#fdca26"
             ],
             [
              1,
              "#f0f921"
             ]
            ],
            "type": "surface"
           }
          ],
          "table": [
           {
            "cells": {
             "fill": {
              "color": "#EBF0F8"
             },
             "line": {
              "color": "white"
             }
            },
            "header": {
             "fill": {
              "color": "#C8D4E3"
             },
             "line": {
              "color": "white"
             }
            },
            "type": "table"
           }
          ]
         },
         "layout": {
          "annotationdefaults": {
           "arrowcolor": "#2a3f5f",
           "arrowhead": 0,
           "arrowwidth": 1
          },
          "autotypenumbers": "strict",
          "coloraxis": {
           "colorbar": {
            "outlinewidth": 0,
            "ticks": ""
           }
          },
          "colorscale": {
           "diverging": [
            [
             0,
             "#8e0152"
            ],
            [
             0.1,
             "#c51b7d"
            ],
            [
             0.2,
             "#de77ae"
            ],
            [
             0.3,
             "#f1b6da"
            ],
            [
             0.4,
             "#fde0ef"
            ],
            [
             0.5,
             "#f7f7f7"
            ],
            [
             0.6,
             "#e6f5d0"
            ],
            [
             0.7,
             "#b8e186"
            ],
            [
             0.8,
             "#7fbc41"
            ],
            [
             0.9,
             "#4d9221"
            ],
            [
             1,
             "#276419"
            ]
           ],
           "sequential": [
            [
             0,
             "#0d0887"
            ],
            [
             0.1111111111111111,
             "#46039f"
            ],
            [
             0.2222222222222222,
             "#7201a8"
            ],
            [
             0.3333333333333333,
             "#9c179e"
            ],
            [
             0.4444444444444444,
             "#bd3786"
            ],
            [
             0.5555555555555556,
             "#d8576b"
            ],
            [
             0.6666666666666666,
             "#ed7953"
            ],
            [
             0.7777777777777778,
             "#fb9f3a"
            ],
            [
             0.8888888888888888,
             "#fdca26"
            ],
            [
             1,
             "#f0f921"
            ]
           ],
           "sequentialminus": [
            [
             0,
             "#0d0887"
            ],
            [
             0.1111111111111111,
             "#46039f"
            ],
            [
             0.2222222222222222,
             "#7201a8"
            ],
            [
             0.3333333333333333,
             "#9c179e"
            ],
            [
             0.4444444444444444,
             "#bd3786"
            ],
            [
             0.5555555555555556,
             "#d8576b"
            ],
            [
             0.6666666666666666,
             "#ed7953"
            ],
            [
             0.7777777777777778,
             "#fb9f3a"
            ],
            [
             0.8888888888888888,
             "#fdca26"
            ],
            [
             1,
             "#f0f921"
            ]
           ]
          },
          "colorway": [
           "#636efa",
           "#EF553B",
           "#00cc96",
           "#ab63fa",
           "#FFA15A",
           "#19d3f3",
           "#FF6692",
           "#B6E880",
           "#FF97FF",
           "#FECB52"
          ],
          "font": {
           "color": "#2a3f5f"
          },
          "geo": {
           "bgcolor": "white",
           "lakecolor": "white",
           "landcolor": "#E5ECF6",
           "showlakes": true,
           "showland": true,
           "subunitcolor": "white"
          },
          "hoverlabel": {
           "align": "left"
          },
          "hovermode": "closest",
          "mapbox": {
           "style": "light"
          },
          "paper_bgcolor": "white",
          "plot_bgcolor": "#E5ECF6",
          "polar": {
           "angularaxis": {
            "gridcolor": "white",
            "linecolor": "white",
            "ticks": ""
           },
           "bgcolor": "#E5ECF6",
           "radialaxis": {
            "gridcolor": "white",
            "linecolor": "white",
            "ticks": ""
           }
          },
          "scene": {
           "xaxis": {
            "backgroundcolor": "#E5ECF6",
            "gridcolor": "white",
            "gridwidth": 2,
            "linecolor": "white",
            "showbackground": true,
            "ticks": "",
            "zerolinecolor": "white"
           },
           "yaxis": {
            "backgroundcolor": "#E5ECF6",
            "gridcolor": "white",
            "gridwidth": 2,
            "linecolor": "white",
            "showbackground": true,
            "ticks": "",
            "zerolinecolor": "white"
           },
           "zaxis": {
            "backgroundcolor": "#E5ECF6",
            "gridcolor": "white",
            "gridwidth": 2,
            "linecolor": "white",
            "showbackground": true,
            "ticks": "",
            "zerolinecolor": "white"
           }
          },
          "shapedefaults": {
           "line": {
            "color": "#2a3f5f"
           }
          },
          "ternary": {
           "aaxis": {
            "gridcolor": "white",
            "linecolor": "white",
            "ticks": ""
           },
           "baxis": {
            "gridcolor": "white",
            "linecolor": "white",
            "ticks": ""
           },
           "bgcolor": "#E5ECF6",
           "caxis": {
            "gridcolor": "white",
            "linecolor": "white",
            "ticks": ""
           }
          },
          "title": {
           "x": 0.05
          },
          "xaxis": {
           "automargin": true,
           "gridcolor": "white",
           "linecolor": "white",
           "ticks": "",
           "title": {
            "standoff": 15
           },
           "zerolinecolor": "white",
           "zerolinewidth": 2
          },
          "yaxis": {
           "automargin": true,
           "gridcolor": "white",
           "linecolor": "white",
           "ticks": "",
           "title": {
            "standoff": 15
           },
           "zerolinecolor": "white",
           "zerolinewidth": 2
          }
         }
        },
        "title": {
         "text": "Line Chart Example"
        },
        "xaxis": {
         "anchor": "y",
         "domain": [
          0,
          1
         ],
         "title": {
          "text": "X-axis Title"
         }
        },
        "yaxis": {
         "anchor": "x",
         "domain": [
          0,
          1
         ],
         "title": {
          "text": "Y-axis Title"
         }
        }
       }
      }
     },
     "metadata": {},
     "output_type": "display_data"
    }
   ],
   "source": [
    "# Define the o numero de tabelas que serão geradas além da primeira\n",
    "num_tables = 9\n",
    "df_list=[]\n",
    "\n",
    "# Generate valores aleatorias para y entre  5 e 8\n",
    "y = 5\n",
    "y_list=[y]\n",
    "while y < 8:\n",
    "    y+=np.random.uniform(0, 0.5)\n",
    "    y_list.append(y)\n",
    "\n",
    "# Cria um array com valores que vão de 0 até o tamanho da lista y_list\n",
    "x = np.arange(0, len(y_list), 1)\n",
    "\n",
    "#Cria um dataframe com os valores de x, e colunas y_list table_name \n",
    "df_list = pd.DataFrame({'x': x, 'y_noise': y_list,'table_name':f'Table{1}'})\n",
    "\n",
    "# Reshape x e y values para uma regressão linear\n",
    "X = df_list['x'].values.reshape(-1, 1)\n",
    "y = df_list['y_noise'].values.reshape(-1, 1)\n",
    "\n",
    "#Cria um modelo de regressão linear\n",
    "model = LinearRegression()\n",
    "\n",
    " # Ajustar o modelo aos dados\n",
    "model.fit(X, y)\n",
    "\n",
    "# Obtenha a inclinação da linha de regressão\n",
    "slope = model.coef_[0][0]\n",
    "\n",
    " # Adicione a inclinação à lista\n",
    "slope_list=[slope]\n",
    "\n",
    "# Prever valores de y usando o modelo\n",
    "y_pred = model.predict(X)\n",
    "\n",
    "# Adiciona valores y previstos ao dataframe\n",
    "df_list['y_pred'] = y_pred.flatten()\n",
    "\n",
    "#Percorre cada tabela\n",
    "for i in range(num_tables):\n",
    "    #refaz o mesmo processo para criação da df_list\n",
    "    y = 5\n",
    "    y_list=[y]\n",
    "    while y < 8:\n",
    "        y+=np.random.uniform(0, 1)**5\n",
    "        y_list.append(y)\n",
    "\n",
    "    #Usa o ultimo valor da df_list para dar continuidade ao valor de x\n",
    "    last_number=df_list['x'].iloc[-1]\n",
    "    x = np.arange(last_number, last_number+len(y_list), 1)\n",
    "    \n",
    "    df = pd.DataFrame({'x': x, 'y_noise': y_list,'table_name':f'Table{i+2}'})\n",
    "\n",
    "    X = df['x'].values.reshape(-1, 1)\n",
    "    y = df['y_noise'].values.reshape(-1, 1)\n",
    "\n",
    "    model = LinearRegression()\n",
    "\n",
    "    model.fit(X, y)\n",
    "\n",
    "    slope = model.coef_[0][0]\n",
    "    slope_list.append(slope)\n",
    "\n",
    "    y_pred = model.predict(X)\n",
    "\n",
    "    df['y_pred'] = y_pred.flatten()\n",
    "\n",
    "    # Concatena o dataframe com o anterior\n",
    "    df_list= pd.concat([df_list,df],axis=0)\n",
    "\n",
    "# Crie um gráfico de linhas usando plotly\n",
    "fig = px.line(df_list, x='x', y=['y_noise','y_pred'],color='table_name', markers=True)\n",
    "fig.update_layout(title='Line Chart Example',\n",
    "                  xaxis_title='X-axis Title',\n",
    "                  yaxis_title='Y-axis Title',\n",
    "                  plot_bgcolor='white')\n",
    "fig.show()"
   ]
  },
  {
   "cell_type": "code",
   "execution_count": 203,
   "metadata": {},
   "outputs": [
    {
     "data": {
      "text/html": [
       "<div>\n",
       "<style scoped>\n",
       "    .dataframe tbody tr th:only-of-type {\n",
       "        vertical-align: middle;\n",
       "    }\n",
       "\n",
       "    .dataframe tbody tr th {\n",
       "        vertical-align: top;\n",
       "    }\n",
       "\n",
       "    .dataframe thead th {\n",
       "        text-align: right;\n",
       "    }\n",
       "</style>\n",
       "<table border=\"1\" class=\"dataframe\">\n",
       "  <thead>\n",
       "    <tr style=\"text-align: right;\">\n",
       "      <th></th>\n",
       "      <th>table_name</th>\n",
       "      <th>tamanho</th>\n",
       "      <th>media</th>\n",
       "      <th>desvio</th>\n",
       "      <th>inclinação</th>\n",
       "    </tr>\n",
       "  </thead>\n",
       "  <tbody>\n",
       "    <tr>\n",
       "      <th>0</th>\n",
       "      <td>Table1</td>\n",
       "      <td>16</td>\n",
       "      <td>6.510184</td>\n",
       "      <td>1.061134</td>\n",
       "      <td>0.220006</td>\n",
       "    </tr>\n",
       "    <tr>\n",
       "      <th>1</th>\n",
       "      <td>Table2</td>\n",
       "      <td>18</td>\n",
       "      <td>6.862109</td>\n",
       "      <td>0.983606</td>\n",
       "      <td>0.176210</td>\n",
       "    </tr>\n",
       "    <tr>\n",
       "      <th>2</th>\n",
       "      <td>Table3</td>\n",
       "      <td>28</td>\n",
       "      <td>6.195834</td>\n",
       "      <td>0.775788</td>\n",
       "      <td>0.087623</td>\n",
       "    </tr>\n",
       "    <tr>\n",
       "      <th>3</th>\n",
       "      <td>Table4</td>\n",
       "      <td>17</td>\n",
       "      <td>6.335748</td>\n",
       "      <td>1.220586</td>\n",
       "      <td>0.234779</td>\n",
       "    </tr>\n",
       "    <tr>\n",
       "      <th>4</th>\n",
       "      <td>Table5</td>\n",
       "      <td>20</td>\n",
       "      <td>6.452829</td>\n",
       "      <td>1.178805</td>\n",
       "      <td>0.186349</td>\n",
       "    </tr>\n",
       "    <tr>\n",
       "      <th>5</th>\n",
       "      <td>Table6</td>\n",
       "      <td>22</td>\n",
       "      <td>6.580106</td>\n",
       "      <td>0.888390</td>\n",
       "      <td>0.132498</td>\n",
       "    </tr>\n",
       "    <tr>\n",
       "      <th>6</th>\n",
       "      <td>Table7</td>\n",
       "      <td>24</td>\n",
       "      <td>6.329691</td>\n",
       "      <td>1.027627</td>\n",
       "      <td>0.140211</td>\n",
       "    </tr>\n",
       "    <tr>\n",
       "      <th>7</th>\n",
       "      <td>Table8</td>\n",
       "      <td>19</td>\n",
       "      <td>6.625677</td>\n",
       "      <td>1.123910</td>\n",
       "      <td>0.195379</td>\n",
       "    </tr>\n",
       "    <tr>\n",
       "      <th>8</th>\n",
       "      <td>Table9</td>\n",
       "      <td>28</td>\n",
       "      <td>6.681726</td>\n",
       "      <td>0.825527</td>\n",
       "      <td>0.098920</td>\n",
       "    </tr>\n",
       "    <tr>\n",
       "      <th>9</th>\n",
       "      <td>Table10</td>\n",
       "      <td>13</td>\n",
       "      <td>6.662758</td>\n",
       "      <td>0.853786</td>\n",
       "      <td>0.209872</td>\n",
       "    </tr>\n",
       "  </tbody>\n",
       "</table>\n",
       "</div>"
      ],
      "text/plain": [
       "  table_name  tamanho     media    desvio  inclinação\n",
       "0     Table1       16  6.510184  1.061134    0.220006\n",
       "1     Table2       18  6.862109  0.983606    0.176210\n",
       "2     Table3       28  6.195834  0.775788    0.087623\n",
       "3     Table4       17  6.335748  1.220586    0.234779\n",
       "4     Table5       20  6.452829  1.178805    0.186349\n",
       "5     Table6       22  6.580106  0.888390    0.132498\n",
       "6     Table7       24  6.329691  1.027627    0.140211\n",
       "7     Table8       19  6.625677  1.123910    0.195379\n",
       "8     Table9       28  6.681726  0.825527    0.098920\n",
       "9    Table10       13  6.662758  0.853786    0.209872"
      ]
     },
     "metadata": {},
     "output_type": "display_data"
    },
    {
     "data": {
      "image/png": "[encoded data removed]",
      "text/plain": [
       "<Figure size 1000x800 with 2 Axes>"
      ]
     },
     "metadata": {},
     "output_type": "display_data"
    }
   ],
   "source": [
    "# Obtem os nomes exclusivos do dataframe\n",
    "unique_values = df_list['table_name'].unique()\n",
    "\n",
    "# Inicialize listas para armazenar resultados de análise\n",
    "tamanho_list=[]\n",
    "media_list=[]\n",
    "desvio_list=[]\n",
    "derivada_list=[]\n",
    "\n",
    "#Percorre cada tabela\n",
    "for table in unique_values:\n",
    "    # Filtra o dataframe da tabela atual\n",
    "    df_u=df_list[df_list['table_name']==table]\n",
    "\n",
    "    #calcula o tamanho do dataframe e salva em uma lista\n",
    "    tamanho=len(df_u)\n",
    "    tamanho_list.append(tamanho)\n",
    "\n",
    "    #calcula a média dos valores do dataframe e salva em uma lista\n",
    "    media= df_u['y_noise'].mean()\n",
    "    media_list.append(media)\n",
    "\n",
    "    #calcula o desvio dos valores do dataframe e salva em uma lista\n",
    "    desvio=df_u['y_noise'].std()\n",
    "    desvio_list.append(desvio)\n",
    "\n",
    "    #calcula a derivada dos valores do dataframe e salva em uma lista\n",
    "    derivada=df_u['y_noise'].diff()\n",
    "    derivada_list.append(derivada.mean())\n",
    "\n",
    "# Cria um dataframe com resultados de análise\n",
    "df_analise = pd.DataFrame({'table_name': unique_values,'tamanho':tamanho_list,'media':media_list,'desvio':desvio_list,'inclinação':slope_list})\n",
    "display(df_analise)\n",
    "\n",
    "#Calcula a matrix de correlação\n",
    "corr_matrix = df_analise[['tamanho', 'media', 'desvio','inclinação']].corr()\n",
    "\n",
    "#Cria um heatmap da matrix de correlação\n",
    "plt.figure(figsize=(10, 8))\n",
    "sns.heatmap(corr_matrix, annot=True, cmap='coolwarm')\n",
    "plt.show()"
   ]
  }
 ],
 "metadata": {
  "kernelspec": {
   "display_name": "base",
   "language": "python",
   "name": "python3"
  },
  "language_info": {
   "codemirror_mode": {
    "name": "ipython",
    "version": 3
   },
   "file_extension": ".py",
   "mimetype": "text/x-python",
   "name": "python",
   "nbconvert_exporter": "python",
   "pygments_lexer": "ipython3",
   "version": "3.11.4"
  }
 },
 "nbformat": 4,
 "nbformat_minor": 2
}
